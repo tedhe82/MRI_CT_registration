{
 "cells": [
  {
   "cell_type": "code",
   "execution_count": null,
   "id": "95af9b01",
   "metadata": {},
   "outputs": [],
   "source": [
    "import torch\n",
    "import torch.optim as optim\n",
    "from models.registration_model import RegistrationCNN\n",
    "from utils.data_processing import load_nifti, preprocess_image, apply_displacement_field\n",
    "import matplotlib.pyplot as plt"
   ]
  },
  {
   "cell_type": "code",
   "execution_count": null,
   "id": "b03dfcc5",
   "metadata": {},
   "outputs": [],
   "source": [
    "def train_model(model, fixed_image, moving_image, num_epochs=100, learning_rate=0.001):\n",
    "    \"\"\"Train the registration model.\"\"\"\n",
    "    device = torch.device('cuda' if torch.cuda.is_available() else 'cpu')\n",
    "    model = model.to(device)\n",
    "    \n",
    "    criterion = torch.nn.MSELoss()\n",
    "    optimizer = optim.Adam(model.parameters(), lr=learning_rate)\n",
    "    \n",
    "    fixed_tensor = torch.FloatTensor(fixed_image).unsqueeze(0).unsqueeze(0).to(device)\n",
    "    moving_tensor = torch.FloatTensor(moving_image).unsqueeze(0).unsqueeze(0).to(device)\n",
    "    \n",
    "    for epoch in range(num_epochs):\n",
    "        optimizer.zero_grad()\n",
    "        \n",
    "        # Forward pass\n",
    "        displacement_field = model(fixed_tensor, moving_tensor)\n",
    "        \n",
    "        # Apply displacement field to moving image\n",
    "        warped_image = apply_displacement_field(moving_tensor, displacement_field)\n",
    "        \n",
    "        # Calculate loss\n",
    "        loss = criterion(warped_image, fixed_tensor)\n",
    "        \n",
    "        # Backward pass\n",
    "        loss.backward()\n",
    "        optimizer.step()\n",
    "        \n",
    "        if (epoch + 1) % 10 == 0:\n",
    "            print(f'Epoch [{epoch+1}/{num_epochs}], Loss: {loss.item():.4f}')\n",
    "    \n",
    "    return model, displacement_field\n",
    "\n",
    "def plot_images(fixed, moving, warped, slice_idx=64):\n",
    "    \"\"\"Plot fixed, moving, and warped images.\"\"\"\n",
    "    fig, axes = plt.subplots(1, 3, figsize=(15, 5))\n",
    "    \n",
    "    axes[0].imshow(fixed[slice_idx, :, :], cmap='gray')\n",
    "    axes[0].set_title('Fixed Image')\n",
    "    \n",
    "    axes[1].imshow(moving[slice_idx, :, :], cmap='gray')\n",
    "    axes[1].set_title('Moving Image')\n",
    "    \n",
    "    axes[2].imshow(warped[slice_idx, :, :], cmap='gray')\n",
    "    axes[2].set_title('Warped Image')\n",
    "    \n",
    "    plt.tight_layout()\n",
    "    plt.show()\n",
    "\n",
    "\n"
   ]
  },
  {
   "cell_type": "code",
   "execution_count": null,
   "id": "af7ab404",
   "metadata": {},
   "outputs": [],
   "source": [
    "# Example usage\n",
    "mri_path = 'path_to_mri.nii.gz'\n",
    "ct_path = 'path_to_ct.nii.gz'\n",
    "\n",
    "# Load and preprocess images\n",
    "mri_image, _ = load_nifti(mri_path)\n",
    "ct_image, _ = load_nifti(ct_path)\n",
    "\n",
    "mri_processed = preprocess_image(mri_image)\n",
    "ct_processed = preprocess_image(ct_image)\n",
    "\n",
    "# Initialize model\n",
    "model = RegistrationCNN()\n",
    "\n",
    "# Train model\n",
    "trained_model, displacement_field = train_model(model, mri_processed, ct_processed)\n",
    "\n",
    "# Apply transformation\n",
    "warped_image = apply_displacement_field(torch.FloatTensor(ct_processed).unsqueeze(0).unsqueeze(0), displacement_field)\n",
    "\n",
    "# Visualize results\n",
    "plot_images(mri_processed, ct_processed, warped_image.squeeze().numpy()) "
   ]
  }
 ],
 "metadata": {
  "kernelspec": {
   "display_name": "Python 3",
   "language": "python",
   "name": "python3"
  },
  "language_info": {
   "codemirror_mode": {
    "name": "ipython",
    "version": 3
   },
   "file_extension": ".py",
   "mimetype": "text/x-python",
   "name": "python",
   "nbconvert_exporter": "python",
   "pygments_lexer": "ipython3",
   "version": "3.6.13"
  }
 },
 "nbformat": 4,
 "nbformat_minor": 5
}
